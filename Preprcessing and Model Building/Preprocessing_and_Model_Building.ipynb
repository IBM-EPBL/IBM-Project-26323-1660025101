{
  "cells": [
    {
      "cell_type": "code",
      "execution_count": null,
      "metadata": {
        "id": "AYN73ALMzaI8"
      },
      "outputs": [],
      "source": [
        "import pandas as pd\n",
        "import numpy as np\n",
        "import matplotlib.pyplot as plt\n",
        "import seaborn as sns\n",
        "from sklearn.model_selection import train_test_split\n",
        "from sklearn.linear_model import LinearRegression\n",
        "from sklearn.linear_model import Lasso\n",
        "from sklearn.preprocessing import LabelEncoder\n",
        "from tkinter import *\n",
        "import pickle"
      ]
    },
    {
      "cell_type": "code",
      "execution_count": null,
      "metadata": {
        "id": "uzR-qvZl1vgg"
      },
      "outputs": [],
      "source": [
        "df=pd.read_csv('autos.csv',header=0,sep=',',encoding=\"ISO-8859-1\")"
      ]
    },
    {
      "cell_type": "code",
      "execution_count": null,
      "metadata": {
        "id": "IzRYYHM1PTTp",
        "colab": {
          "base_uri": "https://localhost:8080/"
        },
        "outputId": "6a3516fd-49f1-498a-c882-316e522e8d53"
      },
      "outputs": [
        {
          "output_type": "stream",
          "name": "stdout",
          "text": [
            "privat        371525\n",
            "gewerblich         3\n",
            "Name: seller, dtype: int64\n"
          ]
        },
        {
          "output_type": "stream",
          "name": "stderr",
          "text": [
            "/usr/local/lib/python3.7/dist-packages/ipykernel_launcher.py:3: FutureWarning: In a future version of pandas all arguments of DataFrame.drop except for the argument 'labels' will be keyword-only\n",
            "  This is separate from the ipykernel package so we can avoid doing imports until\n"
          ]
        }
      ],
      "source": [
        "print(df.seller.value_counts())\n",
        "df[df.seller!='gewerblich']\n",
        "df=df.drop('seller',1)"
      ]
    },
    {
      "cell_type": "code",
      "execution_count": null,
      "metadata": {
        "id": "MKjJZcnnSw-K",
        "colab": {
          "base_uri": "https://localhost:8080/"
        },
        "outputId": "2a36756c-d0bc-43f0-f5d9-e4d550ae3266"
      },
      "outputs": [
        {
          "output_type": "stream",
          "name": "stdout",
          "text": [
            "(371528, 19)\n",
            "(319709, 19)\n"
          ]
        }
      ],
      "source": [
        "print(df.shape)\n",
        "df=df[(df.powerPS > 50) & (df.powerPS < 900)]\n",
        "print(df.shape)\n"
      ]
    },
    {
      "cell_type": "code",
      "execution_count": null,
      "metadata": {
        "id": "0bFb-RmDUjnC",
        "colab": {
          "base_uri": "https://localhost:8080/"
        },
        "outputId": "431ac264-68be-4e8c-c0f9-d702bfc4b900"
      },
      "outputs": [
        {
          "output_type": "stream",
          "name": "stdout",
          "text": [
            "(309171, 19)\n"
          ]
        }
      ],
      "source": [
        "df=df[(df.yearOfRegistration >= 1950) & (df.yearOfRegistration < 2017)]\n",
        "print(df.shape)"
      ]
    },
    {
      "cell_type": "code",
      "execution_count": null,
      "metadata": {
        "id": "B_LmOb_8UuUC",
        "colab": {
          "base_uri": "https://localhost:8080/"
        },
        "outputId": "17c9d88b-e631-4397-b72e-51af1f08f296"
      },
      "outputs": [
        {
          "output_type": "stream",
          "name": "stderr",
          "text": [
            "/usr/local/lib/python3.7/dist-packages/pandas/core/frame.py:4913: SettingWithCopyWarning: \n",
            "A value is trying to be set on a copy of a slice from a DataFrame\n",
            "\n",
            "See the caveats in the documentation: https://pandas.pydata.org/pandas-docs/stable/user_guide/indexing.html#returning-a-view-versus-a-copy\n",
            "  errors=errors,\n"
          ]
        }
      ],
      "source": [
        "df.drop(['name','abtest','dateCrawled','nrOfPictures','lastSeen','postalCode','dateCreated'],axis='columns',inplace=True)\n"
      ]
    },
    {
      "cell_type": "code",
      "execution_count": null,
      "metadata": {
        "id": "qv1AartRU5WX"
      },
      "outputs": [],
      "source": [
        "new_df=df.copy()\n",
        "new_df= new_df.drop_duplicates(['price','vehicleType','yearOfRegistration','gearbox','powerPS','model','kilometer','monthOfRegistration','fuelType','notRepairedDamage'])"
      ]
    },
    {
      "cell_type": "code",
      "execution_count": null,
      "metadata": {
        "id": "dlteHYEAVZPr",
        "colab": {
          "base_uri": "https://localhost:8080/"
        },
        "outputId": "c3e2a662-149c-47b2-b74e-ddc0c066fe15"
      },
      "outputs": [
        {
          "output_type": "stream",
          "name": "stderr",
          "text": [
            "/usr/local/lib/python3.7/dist-packages/pandas/core/generic.py:6619: SettingWithCopyWarning: \n",
            "A value is trying to be set on a copy of a slice from a DataFrame\n",
            "\n",
            "See the caveats in the documentation: https://pandas.pydata.org/pandas-docs/stable/user_guide/indexing.html#returning-a-view-versus-a-copy\n",
            "  return self._update_inplace(result)\n"
          ]
        }
      ],
      "source": [
        "new_df.gearbox.replace(('manuell','automatik'),('manual','automatic'),inplace=True)\n",
        "new_df.fuelType.replace(('benzin','andere','elektro'),('petrol','others','electric'),inplace=True)\n",
        "new_df.vehicleType.replace(('kleinwagen','cabrio','kombi','andere'),('small car','convertible','combination','others'),inplace=True)\n",
        "new_df.notRepairedDamage.replace(('ja','nein'),('Yes','No'),inplace=True)"
      ]
    },
    {
      "cell_type": "code",
      "execution_count": null,
      "metadata": {
        "id": "QCzCQzfPVnkI",
        "colab": {
          "base_uri": "https://localhost:8080/"
        },
        "outputId": "e9fb0d98-cf2b-41cf-fa4c-168e598a2dad"
      },
      "outputs": [
        {
          "output_type": "stream",
          "name": "stderr",
          "text": [
            "/usr/local/lib/python3.7/dist-packages/pandas/core/generic.py:6392: SettingWithCopyWarning: \n",
            "A value is trying to be set on a copy of a slice from a DataFrame\n",
            "\n",
            "See the caveats in the documentation: https://pandas.pydata.org/pandas-docs/stable/user_guide/indexing.html#returning-a-view-versus-a-copy\n",
            "  return self._update_inplace(result)\n"
          ]
        }
      ],
      "source": [
        "new_df=new_df[(new_df.price >= 100) & (new_df.price <= 150000)]\n",
        "\n",
        "new_df['notRepairedDamage'].fillna(value='not-declared',inplace=True)\n",
        "new_df['fuelType'].fillna(value='not-declared',inplace=True)\n",
        "new_df['gearbox'].fillna(value='not-declared',inplace=True)\n",
        "new_df['vehicleType'].fillna(value='not-declared',inplace=True)\n",
        "new_df['model'].fillna(value='not-declared',inplace=True)"
      ]
    },
    {
      "cell_type": "code",
      "execution_count": null,
      "metadata": {
        "id": "To0epQ_PVsUX"
      },
      "outputs": [],
      "source": [
        "new_df.to_csv(\"autos_preprocessed.csv\")\n"
      ]
    },
    {
      "cell_type": "code",
      "execution_count": null,
      "metadata": {
        "id": "w0rEO7_BVwSj",
        "colab": {
          "base_uri": "https://localhost:8080/"
        },
        "outputId": "47a94234-4958-4ff5-fe55-b1861498fa7d"
      },
      "outputs": [
        {
          "output_type": "stream",
          "name": "stdout",
          "text": [
            "gearbox ; LabelEncoder()\n",
            "Index(['price', 'yearOfRegistration', 'powerPS', 'kilometer',\n",
            "       'monthOfRegistration', 'gearbox_labels', 'notRepairedDamage_labels',\n",
            "       'model_labels', 'brand_labels', 'fuelType_labels',\n",
            "       'vehicleType_labels'],\n",
            "      dtype='object')\n",
            "notRepairedDamage ; LabelEncoder()\n",
            "Index(['price', 'yearOfRegistration', 'powerPS', 'kilometer',\n",
            "       'monthOfRegistration', 'gearbox_labels', 'notRepairedDamage_labels',\n",
            "       'model_labels', 'brand_labels', 'fuelType_labels',\n",
            "       'vehicleType_labels'],\n",
            "      dtype='object')\n",
            "model ; LabelEncoder()\n",
            "Index(['price', 'yearOfRegistration', 'powerPS', 'kilometer',\n",
            "       'monthOfRegistration', 'gearbox_labels', 'notRepairedDamage_labels',\n",
            "       'model_labels', 'brand_labels', 'fuelType_labels',\n",
            "       'vehicleType_labels'],\n",
            "      dtype='object')\n",
            "brand ; LabelEncoder()\n",
            "Index(['price', 'yearOfRegistration', 'powerPS', 'kilometer',\n",
            "       'monthOfRegistration', 'gearbox_labels', 'notRepairedDamage_labels',\n",
            "       'model_labels', 'brand_labels', 'fuelType_labels',\n",
            "       'vehicleType_labels'],\n",
            "      dtype='object')\n",
            "fuelType ; LabelEncoder()\n",
            "Index(['price', 'yearOfRegistration', 'powerPS', 'kilometer',\n",
            "       'monthOfRegistration', 'gearbox_labels', 'notRepairedDamage_labels',\n",
            "       'model_labels', 'brand_labels', 'fuelType_labels',\n",
            "       'vehicleType_labels'],\n",
            "      dtype='object')\n",
            "vehicleType ; LabelEncoder()\n",
            "Index(['price', 'yearOfRegistration', 'powerPS', 'kilometer',\n",
            "       'monthOfRegistration', 'gearbox_labels', 'notRepairedDamage_labels',\n",
            "       'model_labels', 'brand_labels', 'fuelType_labels',\n",
            "       'vehicleType_labels'],\n",
            "      dtype='object')\n"
          ]
        }
      ],
      "source": [
        "labels=['gearbox','notRepairedDamage','model','brand','fuelType','vehicleType']\n",
        "mapper={}\n",
        "for i in labels:\n",
        "  mapper[i] = LabelEncoder()\n",
        "  mapper[i].fit(new_df[i])\n",
        "  tr= mapper[i].transform(new_df[i])\n",
        "  np.save(str('classes'+i+'.npy'), mapper[i].classes_)\n",
        "  print(i,\";\",mapper[i])\n",
        "  new_df.loc[:,i + '_labels'] = pd.Series(tr, index=new_df.index)\n",
        "  \n",
        "  labeled=new_df[['price','yearOfRegistration','powerPS','kilometer','monthOfRegistration'] + [x+\"_labels\" for x in labels]]\n",
        "  print(labeled.columns)"
      ]
    },
    {
      "cell_type": "code",
      "execution_count": null,
      "metadata": {
        "id": "1e1v2IeaV9AX"
      },
      "outputs": [],
      "source": [
        "Y=labeled.iloc[:,0].values\n",
        "X=labeled.iloc[:,1:].values\n",
        "Y=Y.reshape(-1,1)\n"
      ]
    },
    {
      "cell_type": "code",
      "execution_count": null,
      "metadata": {
        "id": "bVGQbZ3qWDVv"
      },
      "outputs": [],
      "source": [
        "from sklearn.model_selection import cross_val_score,train_test_split\n",
        "X_train,X_test,Y_train,Y_test = train_test_split(X,Y,test_size=0.3,random_state=3)"
      ]
    },
    {
      "cell_type": "code",
      "execution_count": null,
      "metadata": {
        "id": "NL7A-9zMWTxw"
      },
      "outputs": [],
      "source": [
        "from sklearn.ensemble  import RandomForestRegressor\n",
        "from sklearn.metrics import r2_score\n",
        "regressor = RandomForestRegressor(n_estimators=1000,max_depth=10,random_state=34)\n",
        "\n",
        "  "
      ]
    },
    {
      "cell_type": "code",
      "execution_count": null,
      "metadata": {
        "id": "rMc2LUNNXdNs"
      },
      "outputs": [],
      "source": [
        "from sklearn.ensemble import RandomForestRegressor\n",
        "from sklearn.metrics import r2_score\n",
        "regressor = RandomForestRegressor(n_estimators=1000,max_depth=10,random_state=34)\n"
      ]
    },
    {
      "cell_type": "code",
      "execution_count": 45,
      "metadata": {
        "id": "JGbTiCtGYDc1",
        "colab": {
          "base_uri": "https://localhost:8080/"
        },
        "outputId": "69263c79-7c0f-40ee-c56a-26005e8be4e6"
      },
      "outputs": [
        {
          "output_type": "execute_result",
          "data": {
            "text/plain": [
              "RandomForestRegressor(max_depth=10, n_estimators=1000, random_state=34)"
            ]
          },
          "metadata": {},
          "execution_count": 45
        }
      ],
      "source": [
        "regressor.fit(X_train,np.ravel(Y_train,order='C'))"
      ]
    },
    {
      "cell_type": "code",
      "source": [
        "y_pred = regressor.predict(X_test)\n",
        "print(r2_score(Y_test,y_pred))"
      ],
      "metadata": {
        "id": "zoMZcXLC3_of",
        "colab": {
          "base_uri": "https://localhost:8080/"
        },
        "outputId": "cfc5625c-24d7-4135-a090-569357380811"
      },
      "execution_count": 46,
      "outputs": [
        {
          "output_type": "stream",
          "name": "stdout",
          "text": [
            "0.834527626497731\n"
          ]
        }
      ]
    },
    {
      "cell_type": "code",
      "source": [
        "filename='resale+model.sav'\n",
        "pickle.dump(regressor,open(filename, 'wb'))"
      ],
      "metadata": {
        "id": "t0WUMTyb4lMv"
      },
      "execution_count": 48,
      "outputs": []
    }
  ],
  "metadata": {
    "colab": {
      "provenance": []
    },
    "kernelspec": {
      "display_name": "Python 3",
      "name": "python3"
    },
    "language_info": {
      "name": "python"
    }
  },
  "nbformat": 4,
  "nbformat_minor": 0
}